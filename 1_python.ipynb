{
  "nbformat": 4,
  "nbformat_minor": 0,
  "metadata": {
    "colab": {
      "name": "1_python.ipynb",
      "provenance": [],
      "authorship_tag": "ABX9TyM3apRFTRjFlSggWI4shlI5",
      "include_colab_link": true
    },
    "kernelspec": {
      "name": "python3",
      "display_name": "Python 3"
    },
    "language_info": {
      "name": "python"
    }
  },
  "cells": [
    {
      "cell_type": "markdown",
      "metadata": {
        "id": "view-in-github",
        "colab_type": "text"
      },
      "source": [
        "<a href=\"https://colab.research.google.com/github/Nurjanah4079/python/blob/main/1_python.ipynb\" target=\"_parent\"><img src=\"https://colab.research.google.com/assets/colab-badge.svg\" alt=\"Open In Colab\"/></a>"
      ]
    },
    {
      "cell_type": "markdown",
      "metadata": {
        "id": "54Ek2KVXpiF1"
      },
      "source": [
        "# Pandas\n",
        "\n",
        "### Data Manipulation with Pandas\n",
        "Seluruh project tentang memulai dengan Panda:\n",
        "1. Creating DataFrames // mengimport data sebagai dataframe\n",
        "\n",
        "2. Beberapa basic checks dan datatype\n",
        "3. Indexing/sampling // pengambilan data\n",
        "4. Conditional filtering // penyaringan bersyarat\n",
        "5. Subsetting || Updating Row || Add/Remove\n",
        "6. Sorting || Groupby || Aggregation // pengurutan || pengelompokan || pengumpulan\n",
        "\n"
      ]
    },
    {
      "cell_type": "markdown",
      "metadata": {
        "id": "q28Rb8RSpl0x"
      },
      "source": [
        "# Apa yang dimaksud Pandas?\n",
        "Pandas adalah python library untuk Data Analysis dan Data Manipulation. Pandas membuat bekerja dengan data tabular sangat mudah.\n",
        "Pandas memiliki dua data object utama:\n",
        "1. Series = one-dimentional indexed array\n",
        "2. DataFrame = two-dimentional indexed array; a tablle like stucture; can be though of parallally stacked Series; In dataframe every column is a pandas series. array berindeks dua dimensi; struktur seperti tabel; dapat meskipun Seri ditumpuk secara paralel; Dalam kerangka data, setiap kolom adalah seri panda.\n"
      ]
    },
    {
      "cell_type": "markdown",
      "metadata": {
        "id": "I0p4CXLvpqD-"
      },
      "source": [
        "## Creating Dataframe\n",
        "\n",
        "1. Data Frame adalah struktur seperti tabel\n",
        "2. Setiap kolom berisi pengukuran pada satu variabel.\n",
        "3. Setiap baris berisi satu kasus atau satu pengamatan untuk setiap kolom."
      ]
    },
    {
      "cell_type": "code",
      "metadata": {
        "colab": {
          "base_uri": "https://localhost:8080/"
        },
        "id": "L31qHjoEpqhx",
        "outputId": "3b949a8d-649c-45df-e72d-fa00d484926f"
      },
      "source": [
        "from google.colab import drive\n",
        "drive.mount('/content/drive')\n",
        "\n"
      ],
      "execution_count": 1,
      "outputs": [
        {
          "output_type": "stream",
          "name": "stdout",
          "text": [
            "Mounted at /content/drive\n"
          ]
        }
      ]
    },
    {
      "cell_type": "code",
      "metadata": {
        "id": "TqmA4yuvqTDQ"
      },
      "source": [
        "PATH = \"/content/drive/MyDrive/python/dataset/Python_Session2_Datasets\""
      ],
      "execution_count": 2,
      "outputs": []
    },
    {
      "cell_type": "code",
      "metadata": {
        "id": "DaecDM9pqCBY"
      },
      "source": [
        "import numpy as np  \n",
        "import pandas as pd"
      ],
      "execution_count": 3,
      "outputs": []
    },
    {
      "cell_type": "code",
      "metadata": {
        "colab": {
          "base_uri": "https://localhost:8080/",
          "height": 173
        },
        "id": "y6CxbSfnxkxs",
        "outputId": "431aca13-bb5b-40ac-b2fa-968a96edfe4e"
      },
      "source": [
        "# cretaing panda data frame from dictionary\n",
        "data = {'name': ['Nur', 'Janah', 'Nje', 'Anna'], \n",
        "        'age': [7, 7, 8, 5],\n",
        "        'Profesi': ['student', 'student','student','student']}\n",
        "df = pd.DataFrame(data)\n",
        "df\n"
      ],
      "execution_count": 9,
      "outputs": [
        {
          "output_type": "execute_result",
          "data": {
            "text/html": [
              "<div>\n",
              "<style scoped>\n",
              "    .dataframe tbody tr th:only-of-type {\n",
              "        vertical-align: middle;\n",
              "    }\n",
              "\n",
              "    .dataframe tbody tr th {\n",
              "        vertical-align: top;\n",
              "    }\n",
              "\n",
              "    .dataframe thead th {\n",
              "        text-align: right;\n",
              "    }\n",
              "</style>\n",
              "<table border=\"1\" class=\"dataframe\">\n",
              "  <thead>\n",
              "    <tr style=\"text-align: right;\">\n",
              "      <th></th>\n",
              "      <th>name</th>\n",
              "      <th>age</th>\n",
              "      <th>Profesi</th>\n",
              "    </tr>\n",
              "  </thead>\n",
              "  <tbody>\n",
              "    <tr>\n",
              "      <th>0</th>\n",
              "      <td>Nur</td>\n",
              "      <td>7</td>\n",
              "      <td>student</td>\n",
              "    </tr>\n",
              "    <tr>\n",
              "      <th>1</th>\n",
              "      <td>Janah</td>\n",
              "      <td>7</td>\n",
              "      <td>student</td>\n",
              "    </tr>\n",
              "    <tr>\n",
              "      <th>2</th>\n",
              "      <td>Nje</td>\n",
              "      <td>8</td>\n",
              "      <td>student</td>\n",
              "    </tr>\n",
              "    <tr>\n",
              "      <th>3</th>\n",
              "      <td>Anna</td>\n",
              "      <td>5</td>\n",
              "      <td>student</td>\n",
              "    </tr>\n",
              "  </tbody>\n",
              "</table>\n",
              "</div>"
            ],
            "text/plain": [
              "    name  age  Profesi\n",
              "0    Nur    7  student\n",
              "1  Janah    7  student\n",
              "2    Nje    8  student\n",
              "3   Anna    5  student"
            ]
          },
          "metadata": {},
          "execution_count": 9
        }
      ]
    },
    {
      "cell_type": "code",
      "metadata": {
        "id": "-f2KDqBwyQOt"
      },
      "source": [
        ""
      ],
      "execution_count": null,
      "outputs": []
    }
  ]
}